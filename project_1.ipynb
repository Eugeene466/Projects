{
 "cells": [
  {
   "cell_type": "markdown",
   "id": "2215c6b9",
   "metadata": {},
   "source": [
    "# Анализ данных миллиардеров Forbes\n",
    "\n",
    "## Описание проекта\n",
    "Проект посвящен анализу данных о миллиардерах из рейтинга Forbes. Включает в себя первичную обработку данных, исследовательский анализ и построение прогнозной модели для определения чистого капитала на основе различных характеристик.\n",
    "\n",
    "## Источник данных\n",
    "- **Платформа:** Kaggle\n",
    "- **Файл:** `forbes_billionaire.xlsx`\n",
    "- **Период данных:** 2023 год (основано на лидере рейтинга - Бернар Арно)\n",
    "- **Исходный размер:** 2655 записей\n",
    "\n",
    "## Структура данных\n",
    "- `rank` - Позиция в рейтинге Forbes\n",
    "- `name` - Имя миллиардера\n",
    "- `net_worth` - Состояние в миллиардах долларов\n",
    "- `age` - Возраст\n",
    "- `country/territory` - Страна/территория\n",
    "- `source` - Источник состояния\n",
    "- `industry` - Отрасль деятельности\n",
    "\n",
    "## Основные этапы анализа\n",
    "1. Загрузка и первичный осмотр данных\n",
    "2. Очистка данных (удаление пропусков и дубликатов)\n",
    "3. Разведочный анализ и визуализация\n",
    "4. Предобработка данных для ML\n",
    "5. Построение и оценка модели линейной регрессии\n",
    "6. Анализ остатков и проверка допущений\n",
    "\n",
    "## Ключевые выводы анализа\n",
    "\n",
    "### 📊 По результатам исследования данных:\n",
    "- **Общее количество:** Проанализированы данные о 2640 миллиардерах из рейтинга Forbes 2023 года\n",
    "- **География:** США лидирует по количеству миллиардеров (739 человек)\n",
    "- **Отрасли:** Наиболее представленные отрасли - Финансы и инвестиции, Технологии\n",
    "- **Возраст:** Средний возраст миллиардеров составляет 65 лет\n",
    "- **Капитал:** Состояния распределены крайне неравномерно (сильная правосторонняя асимметрия)\n",
    "\n",
    "### 🤖 По результатам моделирования:\n",
    "- **Качество модели:** Линейная регрессия показала высокое качество прогноза (R² = 0.995)\n",
    "- **Главный фактор:** Позиция в рейтинге имеет наибольшее влияние на прогноз капитала\n",
    "- **Ограничения:** Модель лучше работает для средних значений, возможны проблемы с экстремальными выбросами\n",
    "- **Перспективы:** Полиномиальные признаки улучшили точность прогнозирования\n",
    "\n",
    "### 💡 Практическая значимость:\n",
    "Модель может использоваться для предварительной оценки потенциального положения в рейтинге на основе характеристик бизнеса и демографических данных. Наибольшую прогнозную силу имеют позиция в рейтинге и отраслевая принадлежность."
   ]
  },
  {
   "cell_type": "code",
   "execution_count": 915,
   "id": "013a99be",
   "metadata": {},
   "outputs": [],
   "source": [
    "# Импорт необходимых библиотек для анализа данных и визуализации\n",
    "import pandas as pd\n",
    "import numpy as np\n",
    "import scipy.stats as st\n",
    "import matplotlib.pyplot as plt\n",
    "import seaborn as sns"
   ]
  },
  {
   "cell_type": "code",
   "execution_count": 916,
   "id": "e6f9c20a",
   "metadata": {},
   "outputs": [],
   "source": [
    "# Раздел: Импорт данных\n",
    "# Загрузка данных из Excel-файла в DataFrame\n",
    "df = pd.read_excel('forbes_billionaire.xlsx')"
   ]
  },
  {
   "cell_type": "code",
   "execution_count": 917,
   "id": "b6875651",
   "metadata": {},
   "outputs": [
    {
     "data": {
      "text/html": [
       "<div>\n",
       "<style scoped>\n",
       "    .dataframe tbody tr th:only-of-type {\n",
       "        vertical-align: middle;\n",
       "    }\n",
       "\n",
       "    .dataframe tbody tr th {\n",
       "        vertical-align: top;\n",
       "    }\n",
       "\n",
       "    .dataframe thead th {\n",
       "        text-align: right;\n",
       "    }\n",
       "</style>\n",
       "<table border=\"1\" class=\"dataframe\">\n",
       "  <thead>\n",
       "    <tr style=\"text-align: right;\">\n",
       "      <th></th>\n",
       "      <th>rank</th>\n",
       "      <th>name</th>\n",
       "      <th>net_worth (in billion $)</th>\n",
       "      <th>age</th>\n",
       "      <th>country / territory</th>\n",
       "      <th>source</th>\n",
       "      <th>industry</th>\n",
       "    </tr>\n",
       "  </thead>\n",
       "  <tbody>\n",
       "    <tr>\n",
       "      <th>0</th>\n",
       "      <td>1</td>\n",
       "      <td>Bernard Arnault &amp; family</td>\n",
       "      <td>211.0</td>\n",
       "      <td>74.0</td>\n",
       "      <td>France</td>\n",
       "      <td>LVMH</td>\n",
       "      <td>Fashion &amp; Retail</td>\n",
       "    </tr>\n",
       "    <tr>\n",
       "      <th>1</th>\n",
       "      <td>2</td>\n",
       "      <td>Elon Musk</td>\n",
       "      <td>180.0</td>\n",
       "      <td>51.0</td>\n",
       "      <td>United States</td>\n",
       "      <td>Tesla, SpaceX</td>\n",
       "      <td>Automotive</td>\n",
       "    </tr>\n",
       "    <tr>\n",
       "      <th>2</th>\n",
       "      <td>3</td>\n",
       "      <td>Jeff Bezos</td>\n",
       "      <td>114.0</td>\n",
       "      <td>59.0</td>\n",
       "      <td>United States</td>\n",
       "      <td>Amazon</td>\n",
       "      <td>Technology</td>\n",
       "    </tr>\n",
       "    <tr>\n",
       "      <th>3</th>\n",
       "      <td>4</td>\n",
       "      <td>Larry Ellison</td>\n",
       "      <td>107.0</td>\n",
       "      <td>78.0</td>\n",
       "      <td>United States</td>\n",
       "      <td>Oracle</td>\n",
       "      <td>Technology</td>\n",
       "    </tr>\n",
       "    <tr>\n",
       "      <th>4</th>\n",
       "      <td>5</td>\n",
       "      <td>Warren Buffett</td>\n",
       "      <td>106.0</td>\n",
       "      <td>92.0</td>\n",
       "      <td>United States</td>\n",
       "      <td>Berkshire Hathaway</td>\n",
       "      <td>Finance &amp; Investments</td>\n",
       "    </tr>\n",
       "  </tbody>\n",
       "</table>\n",
       "</div>"
      ],
      "text/plain": [
       "   rank                      name  net_worth (in billion $)   age  \\\n",
       "0     1  Bernard Arnault & family                     211.0  74.0   \n",
       "1     2                 Elon Musk                     180.0  51.0   \n",
       "2     3                Jeff Bezos                     114.0  59.0   \n",
       "3     4             Larry Ellison                     107.0  78.0   \n",
       "4     5            Warren Buffett                     106.0  92.0   \n",
       "\n",
       "  country / territory              source               industry  \n",
       "0              France                LVMH       Fashion & Retail  \n",
       "1       United States       Tesla, SpaceX             Automotive  \n",
       "2       United States              Amazon             Technology  \n",
       "3       United States              Oracle             Technology  \n",
       "4       United States  Berkshire Hathaway  Finance & Investments  "
      ]
     },
     "execution_count": 917,
     "metadata": {},
     "output_type": "execute_result"
    }
   ],
   "source": [
    "df.head()"
   ]
  },
  {
   "cell_type": "markdown",
   "id": "bde2e637",
   "metadata": {},
   "source": [
    "__rank__ - Место в рейтинге Forbes\n",
    "\n",
    "__name__ - Имя\n",
    "\n",
    "__net_worth (in billion $)__ - чистые доходы\n",
    "\n",
    "__age__ - Возраст\n",
    "\n",
    "__country / territory__ - страна/территория\n",
    "\n",
    "__source__ - источник дохода\n",
    "\n",
    "__industry__ - индустрия"
   ]
  },
  {
   "cell_type": "markdown",
   "id": "e4cceaa9",
   "metadata": {},
   "source": [
    "Информация о признаках:"
   ]
  },
  {
   "cell_type": "code",
   "execution_count": 918,
   "id": "2a0ed78d",
   "metadata": {},
   "outputs": [
    {
     "name": "stdout",
     "output_type": "stream",
     "text": [
      "<class 'pandas.core.frame.DataFrame'>\n",
      "RangeIndex: 2655 entries, 0 to 2654\n",
      "Data columns (total 7 columns):\n",
      " #   Column                    Non-Null Count  Dtype  \n",
      "---  ------                    --------------  -----  \n",
      " 0   rank                      2655 non-null   int64  \n",
      " 1   name                      2655 non-null   object \n",
      " 2   net_worth (in billion $)  2655 non-null   float64\n",
      " 3   age                       2588 non-null   float64\n",
      " 4   country / territory       2655 non-null   object \n",
      " 5   source                    2655 non-null   object \n",
      " 6   industry                  2655 non-null   object \n",
      "dtypes: float64(2), int64(1), object(4)\n",
      "memory usage: 145.3+ KB\n"
     ]
    }
   ],
   "source": [
    "df.info()"
   ]
  },
  {
   "cell_type": "code",
   "execution_count": 919,
   "id": "2cd3282b",
   "metadata": {},
   "outputs": [
    {
     "data": {
      "text/plain": [
       "(2655, 7)"
      ]
     },
     "execution_count": 919,
     "metadata": {},
     "output_type": "execute_result"
    }
   ],
   "source": [
    "df.shape"
   ]
  },
  {
   "cell_type": "code",
   "execution_count": 920,
   "id": "04c4f44f",
   "metadata": {},
   "outputs": [
    {
     "data": {
      "text/plain": [
       "rank                         0\n",
       "name                         0\n",
       "net_worth (in billion $)     0\n",
       "age                         67\n",
       "country / territory          0\n",
       "source                       0\n",
       "industry                     0\n",
       "dtype: int64"
      ]
     },
     "execution_count": 920,
     "metadata": {},
     "output_type": "execute_result"
    }
   ],
   "source": [
    "# Раздел: Обработка и первичный анализ\n",
    "# Проверка количества пропущенных значений в каждом столбце\n",
    "df.isna().sum()"
   ]
  },
  {
   "cell_type": "code",
   "execution_count": 921,
   "id": "4e94941a",
   "metadata": {},
   "outputs": [],
   "source": [
    "# Удаление строк с пропущенными значениями (в основном в столбце age)\n",
    "df = df.dropna()"
   ]
  },
  {
   "cell_type": "code",
   "execution_count": 922,
   "id": "2b1842e8",
   "metadata": {},
   "outputs": [
    {
     "data": {
      "text/html": [
       "<div>\n",
       "<style scoped>\n",
       "    .dataframe tbody tr th:only-of-type {\n",
       "        vertical-align: middle;\n",
       "    }\n",
       "\n",
       "    .dataframe tbody tr th {\n",
       "        vertical-align: top;\n",
       "    }\n",
       "\n",
       "    .dataframe thead th {\n",
       "        text-align: right;\n",
       "    }\n",
       "</style>\n",
       "<table border=\"1\" class=\"dataframe\">\n",
       "  <thead>\n",
       "    <tr style=\"text-align: right;\">\n",
       "      <th></th>\n",
       "      <th>rank</th>\n",
       "      <th>net_worth (in billion $)</th>\n",
       "      <th>age</th>\n",
       "    </tr>\n",
       "  </thead>\n",
       "  <tbody>\n",
       "    <tr>\n",
       "      <th>count</th>\n",
       "      <td>2588.000000</td>\n",
       "      <td>2588.000000</td>\n",
       "      <td>2588.000000</td>\n",
       "    </tr>\n",
       "    <tr>\n",
       "      <th>mean</th>\n",
       "      <td>1286.205564</td>\n",
       "      <td>4.660781</td>\n",
       "      <td>65.129444</td>\n",
       "    </tr>\n",
       "    <tr>\n",
       "      <th>std</th>\n",
       "      <td>743.610214</td>\n",
       "      <td>9.920845</td>\n",
       "      <td>13.255592</td>\n",
       "    </tr>\n",
       "    <tr>\n",
       "      <th>min</th>\n",
       "      <td>1.000000</td>\n",
       "      <td>1.000000</td>\n",
       "      <td>18.000000</td>\n",
       "    </tr>\n",
       "    <tr>\n",
       "      <th>25%</th>\n",
       "      <td>636.000000</td>\n",
       "      <td>1.500000</td>\n",
       "      <td>56.000000</td>\n",
       "    </tr>\n",
       "    <tr>\n",
       "      <th>50%</th>\n",
       "      <td>1292.000000</td>\n",
       "      <td>2.350000</td>\n",
       "      <td>65.000000</td>\n",
       "    </tr>\n",
       "    <tr>\n",
       "      <th>75%</th>\n",
       "      <td>1905.000000</td>\n",
       "      <td>4.300000</td>\n",
       "      <td>75.000000</td>\n",
       "    </tr>\n",
       "    <tr>\n",
       "      <th>max</th>\n",
       "      <td>2540.000000</td>\n",
       "      <td>211.000000</td>\n",
       "      <td>101.000000</td>\n",
       "    </tr>\n",
       "  </tbody>\n",
       "</table>\n",
       "</div>"
      ],
      "text/plain": [
       "              rank  net_worth (in billion $)          age\n",
       "count  2588.000000               2588.000000  2588.000000\n",
       "mean   1286.205564                  4.660781    65.129444\n",
       "std     743.610214                  9.920845    13.255592\n",
       "min       1.000000                  1.000000    18.000000\n",
       "25%     636.000000                  1.500000    56.000000\n",
       "50%    1292.000000                  2.350000    65.000000\n",
       "75%    1905.000000                  4.300000    75.000000\n",
       "max    2540.000000                211.000000   101.000000"
      ]
     },
     "execution_count": 922,
     "metadata": {},
     "output_type": "execute_result"
    }
   ],
   "source": [
    "# Раздел: Описательные статистики\n",
    "# Основные статистические характеристики числовых переменных\n",
    "df.describe()"
   ]
  },
  {
   "cell_type": "markdown",
   "id": "2a51dfcd",
   "metadata": {},
   "source": [
    "Описательные статистики для категориальных переменных:"
   ]
  },
  {
   "cell_type": "code",
   "execution_count": 923,
   "id": "02b439bf",
   "metadata": {},
   "outputs": [
    {
     "data": {
      "text/html": [
       "<div>\n",
       "<style scoped>\n",
       "    .dataframe tbody tr th:only-of-type {\n",
       "        vertical-align: middle;\n",
       "    }\n",
       "\n",
       "    .dataframe tbody tr th {\n",
       "        vertical-align: top;\n",
       "    }\n",
       "\n",
       "    .dataframe thead th {\n",
       "        text-align: right;\n",
       "    }\n",
       "</style>\n",
       "<table border=\"1\" class=\"dataframe\">\n",
       "  <thead>\n",
       "    <tr style=\"text-align: right;\">\n",
       "      <th></th>\n",
       "      <th>name</th>\n",
       "      <th>country / territory</th>\n",
       "      <th>source</th>\n",
       "      <th>industry</th>\n",
       "    </tr>\n",
       "  </thead>\n",
       "  <tbody>\n",
       "    <tr>\n",
       "      <th>count</th>\n",
       "      <td>2588</td>\n",
       "      <td>2588</td>\n",
       "      <td>2588</td>\n",
       "      <td>2588</td>\n",
       "    </tr>\n",
       "    <tr>\n",
       "      <th>unique</th>\n",
       "      <td>2573</td>\n",
       "      <td>77</td>\n",
       "      <td>893</td>\n",
       "      <td>18</td>\n",
       "    </tr>\n",
       "    <tr>\n",
       "      <th>top</th>\n",
       "      <td>Scott Smith</td>\n",
       "      <td>United States</td>\n",
       "      <td>Real estate</td>\n",
       "      <td>Finance &amp; Investments</td>\n",
       "    </tr>\n",
       "    <tr>\n",
       "      <th>freq</th>\n",
       "      <td>2</td>\n",
       "      <td>739</td>\n",
       "      <td>150</td>\n",
       "      <td>364</td>\n",
       "    </tr>\n",
       "  </tbody>\n",
       "</table>\n",
       "</div>"
      ],
      "text/plain": [
       "               name country / territory       source               industry\n",
       "count          2588                2588         2588                   2588\n",
       "unique         2573                  77          893                     18\n",
       "top     Scott Smith       United States  Real estate  Finance & Investments\n",
       "freq              2                 739          150                    364"
      ]
     },
     "execution_count": 923,
     "metadata": {},
     "output_type": "execute_result"
    }
   ],
   "source": [
    "df.describe(include=[object])"
   ]
  },
  {
   "cell_type": "code",
   "execution_count": 924,
   "id": "9e654ab1",
   "metadata": {},
   "outputs": [
    {
     "data": {
      "text/html": [
       "<div>\n",
       "<style scoped>\n",
       "    .dataframe tbody tr th:only-of-type {\n",
       "        vertical-align: middle;\n",
       "    }\n",
       "\n",
       "    .dataframe tbody tr th {\n",
       "        vertical-align: top;\n",
       "    }\n",
       "\n",
       "    .dataframe thead th {\n",
       "        text-align: right;\n",
       "    }\n",
       "</style>\n",
       "<table border=\"1\" class=\"dataframe\">\n",
       "  <thead>\n",
       "    <tr style=\"text-align: right;\">\n",
       "      <th></th>\n",
       "      <th>rank</th>\n",
       "      <th>name</th>\n",
       "      <th>net_worth (in billion $)</th>\n",
       "      <th>age</th>\n",
       "      <th>country / territory</th>\n",
       "      <th>source</th>\n",
       "      <th>industry</th>\n",
       "    </tr>\n",
       "  </thead>\n",
       "  <tbody>\n",
       "    <tr>\n",
       "      <th>2545</th>\n",
       "      <td>2540</td>\n",
       "      <td>Scott Smith</td>\n",
       "      <td>1.0</td>\n",
       "      <td>73.0</td>\n",
       "      <td>United States</td>\n",
       "      <td>Cloud computing</td>\n",
       "      <td>Technology</td>\n",
       "    </tr>\n",
       "    <tr>\n",
       "      <th>2652</th>\n",
       "      <td>2540</td>\n",
       "      <td>Scott Smith</td>\n",
       "      <td>1.0</td>\n",
       "      <td>73.0</td>\n",
       "      <td>United States</td>\n",
       "      <td>Cloud computing</td>\n",
       "      <td>Technology</td>\n",
       "    </tr>\n",
       "  </tbody>\n",
       "</table>\n",
       "</div>"
      ],
      "text/plain": [
       "      rank         name  net_worth (in billion $)   age country / territory  \\\n",
       "2545  2540  Scott Smith                       1.0  73.0       United States   \n",
       "2652  2540  Scott Smith                       1.0  73.0       United States   \n",
       "\n",
       "               source    industry  \n",
       "2545  Cloud computing  Technology  \n",
       "2652  Cloud computing  Technology  "
      ]
     },
     "execution_count": 924,
     "metadata": {},
     "output_type": "execute_result"
    }
   ],
   "source": [
    "df[df['name'] == 'Scott Smith']"
   ]
  },
  {
   "cell_type": "code",
   "execution_count": 925,
   "id": "2f7f62a5",
   "metadata": {},
   "outputs": [],
   "source": [
    "# Удаление полных дубликатов из DataFrame\n",
    "df = df.drop_duplicates()"
   ]
  },
  {
   "cell_type": "code",
   "execution_count": 926,
   "id": "6301b2d4",
   "metadata": {},
   "outputs": [],
   "source": [
    "# Разделение данных на целевую переменную (y) и признаки (X)\n",
    "y, X = df['net_worth (in billion $)'], df.drop('net_worth (in billion $)', axis=1)"
   ]
  },
  {
   "cell_type": "code",
   "execution_count": 927,
   "id": "fa509386",
   "metadata": {},
   "outputs": [
    {
     "data": {
      "text/html": [
       "<div>\n",
       "<style scoped>\n",
       "    .dataframe tbody tr th:only-of-type {\n",
       "        vertical-align: middle;\n",
       "    }\n",
       "\n",
       "    .dataframe tbody tr th {\n",
       "        vertical-align: top;\n",
       "    }\n",
       "\n",
       "    .dataframe thead th {\n",
       "        text-align: right;\n",
       "    }\n",
       "</style>\n",
       "<table border=\"1\" class=\"dataframe\">\n",
       "  <thead>\n",
       "    <tr style=\"text-align: right;\">\n",
       "      <th></th>\n",
       "      <th>rank</th>\n",
       "      <th>name</th>\n",
       "      <th>age</th>\n",
       "      <th>country / territory</th>\n",
       "      <th>source</th>\n",
       "      <th>industry</th>\n",
       "    </tr>\n",
       "  </thead>\n",
       "  <tbody>\n",
       "    <tr>\n",
       "      <th>0</th>\n",
       "      <td>0</td>\n",
       "      <td>215</td>\n",
       "      <td>52</td>\n",
       "      <td>22</td>\n",
       "      <td>445</td>\n",
       "      <td>4</td>\n",
       "    </tr>\n",
       "    <tr>\n",
       "      <th>1</th>\n",
       "      <td>1</td>\n",
       "      <td>568</td>\n",
       "      <td>29</td>\n",
       "      <td>73</td>\n",
       "      <td>812</td>\n",
       "      <td>0</td>\n",
       "    </tr>\n",
       "    <tr>\n",
       "      <th>2</th>\n",
       "      <td>2</td>\n",
       "      <td>960</td>\n",
       "      <td>37</td>\n",
       "      <td>73</td>\n",
       "      <td>29</td>\n",
       "      <td>16</td>\n",
       "    </tr>\n",
       "    <tr>\n",
       "      <th>3</th>\n",
       "      <td>3</td>\n",
       "      <td>1238</td>\n",
       "      <td>56</td>\n",
       "      <td>73</td>\n",
       "      <td>585</td>\n",
       "      <td>16</td>\n",
       "    </tr>\n",
       "    <tr>\n",
       "      <th>4</th>\n",
       "      <td>4</td>\n",
       "      <td>2330</td>\n",
       "      <td>70</td>\n",
       "      <td>73</td>\n",
       "      <td>83</td>\n",
       "      <td>5</td>\n",
       "    </tr>\n",
       "  </tbody>\n",
       "</table>\n",
       "</div>"
      ],
      "text/plain": [
       "   rank  name  age  country / territory  source  industry\n",
       "0     0   215   52                   22     445         4\n",
       "1     1   568   29                   73     812         0\n",
       "2     2   960   37                   73      29        16\n",
       "3     3  1238   56                   73     585        16\n",
       "4     4  2330   70                   73      83         5"
      ]
     },
     "execution_count": 927,
     "metadata": {},
     "output_type": "execute_result"
    }
   ],
   "source": [
    "# Кодирование категориальных переменных в числовые с помощью LabelEncoder\n",
    "from sklearn.preprocessing import LabelEncoder\n",
    "\n",
    "# Определение категориальных переменных (все кроме возраста)\n",
    "cat_vars = set(X.columns) - set(['Age'])\n",
    "for var in cat_vars:\n",
    "    X[var] = LabelEncoder().fit_transform(X[var])\n",
    "\n",
    "X.head()"
   ]
  },
  {
   "cell_type": "code",
   "execution_count": 928,
   "id": "516e86ba",
   "metadata": {},
   "outputs": [
    {
     "data": {
      "text/html": [
       "<div>\n",
       "<style scoped>\n",
       "    .dataframe tbody tr th:only-of-type {\n",
       "        vertical-align: middle;\n",
       "    }\n",
       "\n",
       "    .dataframe tbody tr th {\n",
       "        vertical-align: top;\n",
       "    }\n",
       "\n",
       "    .dataframe thead th {\n",
       "        text-align: right;\n",
       "    }\n",
       "</style>\n",
       "<table border=\"1\" class=\"dataframe\">\n",
       "  <thead>\n",
       "    <tr style=\"text-align: right;\">\n",
       "      <th></th>\n",
       "      <th>rank</th>\n",
       "      <th>name</th>\n",
       "      <th>age</th>\n",
       "      <th>country / territory</th>\n",
       "      <th>source</th>\n",
       "      <th>industry</th>\n",
       "    </tr>\n",
       "  </thead>\n",
       "  <tbody>\n",
       "    <tr>\n",
       "      <th>0</th>\n",
       "      <td>-4.920270</td>\n",
       "      <td>-1.442480</td>\n",
       "      <td>0.669226</td>\n",
       "      <td>-0.840585</td>\n",
       "      <td>-0.002269</td>\n",
       "      <td>-0.883916</td>\n",
       "    </tr>\n",
       "    <tr>\n",
       "      <th>1</th>\n",
       "      <td>-4.894377</td>\n",
       "      <td>-0.967221</td>\n",
       "      <td>-1.069301</td>\n",
       "      <td>1.149927</td>\n",
       "      <td>1.512282</td>\n",
       "      <td>-1.727614</td>\n",
       "    </tr>\n",
       "    <tr>\n",
       "      <th>2</th>\n",
       "      <td>-4.868484</td>\n",
       "      <td>-0.439456</td>\n",
       "      <td>-0.464595</td>\n",
       "      <td>1.149927</td>\n",
       "      <td>-1.719036</td>\n",
       "      <td>1.647176</td>\n",
       "    </tr>\n",
       "    <tr>\n",
       "      <th>3</th>\n",
       "      <td>-4.842591</td>\n",
       "      <td>-0.065173</td>\n",
       "      <td>0.971579</td>\n",
       "      <td>1.149927</td>\n",
       "      <td>0.575489</td>\n",
       "      <td>1.647176</td>\n",
       "    </tr>\n",
       "    <tr>\n",
       "      <th>4</th>\n",
       "      <td>-4.816697</td>\n",
       "      <td>1.405030</td>\n",
       "      <td>2.029813</td>\n",
       "      <td>1.149927</td>\n",
       "      <td>-1.496187</td>\n",
       "      <td>-0.672992</td>\n",
       "    </tr>\n",
       "  </tbody>\n",
       "</table>\n",
       "</div>"
      ],
      "text/plain": [
       "       rank      name       age  country / territory    source  industry\n",
       "0 -4.920270 -1.442480  0.669226            -0.840585 -0.002269 -0.883916\n",
       "1 -4.894377 -0.967221 -1.069301             1.149927  1.512282 -1.727614\n",
       "2 -4.868484 -0.439456 -0.464595             1.149927 -1.719036  1.647176\n",
       "3 -4.842591 -0.065173  0.971579             1.149927  0.575489  1.647176\n",
       "4 -4.816697  1.405030  2.029813             1.149927 -1.496187 -0.672992"
      ]
     },
     "execution_count": 928,
     "metadata": {},
     "output_type": "execute_result"
    }
   ],
   "source": [
    "# Стандартизация числовых признаков для приведения к одинаковому масштабу\n",
    "from sklearn.preprocessing import StandardScaler\n",
    "\n",
    "X = pd.DataFrame(\n",
    "    StandardScaler().fit_transform(X),\n",
    "    columns=X.columns,\n",
    "    index=X.index\n",
    ")\n",
    "\n",
    "X.head()"
   ]
  },
  {
   "cell_type": "code",
   "execution_count": 929,
   "id": "464d796c",
   "metadata": {},
   "outputs": [],
   "source": [
    "# Удаление выбросов - строк, где значения признаков превышают 3 стандартных отклонения\n",
    "X = X[(np.abs(X) < 3)].dropna()\n",
    "y = y[X.index]"
   ]
  },
  {
   "cell_type": "code",
   "execution_count": 931,
   "id": "67372f95",
   "metadata": {},
   "outputs": [
    {
     "data": {
      "text/plain": [
       "rank                  -0.996396\n",
       "name                  -0.030703\n",
       "age                    0.110922\n",
       "country / territory    0.082760\n",
       "source                 0.002298\n",
       "industry              -0.037332\n",
       "Name: net_worth (in billion $), dtype: float64"
      ]
     },
     "execution_count": 931,
     "metadata": {},
     "output_type": "execute_result"
    }
   ],
   "source": [
    "# Раздел: Корреляционный анализ\n",
    "# Анализ корреляции между признаками и целевой переменной\n",
    "pd.concat([X, y], axis=1).corr()['net_worth (in billion $)'][:-1]"
   ]
  },
  {
   "cell_type": "code",
   "execution_count": 932,
   "id": "6093d0ec",
   "metadata": {},
   "outputs": [
    {
     "data": {
      "text/plain": [
       "<seaborn.axisgrid.FacetGrid at 0x1812856c610>"
      ]
     },
     "execution_count": 932,
     "metadata": {},
     "output_type": "execute_result"
    },
    {
     "data": {
      "image/png": "[encoded data removed]",
      "text/plain": [
       "<Figure size 500x500 with 1 Axes>"
      ]
     },
     "metadata": {},
     "output_type": "display_data"
    }
   ],
   "source": [
    "# Визуальная проверка распределения целевой переменной\n",
    "sns.displot(y, kind='hist')"
   ]
  },
  {
   "cell_type": "code",
   "execution_count": 933,
   "id": "f6ed2f6c",
   "metadata": {},
   "outputs": [
    {
     "data": {
      "text/plain": [
       "ShapiroResult(statistic=0.7337225675582886, pvalue=0.0)"
      ]
     },
     "execution_count": 933,
     "metadata": {},
     "output_type": "execute_result"
    }
   ],
   "source": [
    "# Статистическая проверка нормальности распределения с помощью теста Шапиро-Уилка\n",
    "st.shapiro(y)"
   ]
  },
  {
   "cell_type": "code",
   "execution_count": 934,
   "id": "b621c40e",
   "metadata": {},
   "outputs": [
    {
     "data": {
      "text/plain": [
       "<seaborn.axisgrid.FacetGrid at 0x1810a231a50>"
      ]
     },
     "execution_count": 934,
     "metadata": {},
     "output_type": "execute_result"
    },
    {
     "data": {
      "image/png": "[encoded data removed]",
      "text/plain": [
       "<Figure size 500x500 with 1 Axes>"
      ]
     },
     "metadata": {},
     "output_type": "display_data"
    }
   ],
   "source": [
    "# Анализ распределения возраста миллиардеров\n",
    "sns.displot(df['age'], kind='hist')"
   ]
  },
  {
   "cell_type": "code",
   "execution_count": 935,
   "id": "7bba3728",
   "metadata": {},
   "outputs": [
    {
     "data": {
      "text/plain": [
       "ShapiroResult(statistic=0.9966691136360168, pvalue=1.931908991537057e-05)"
      ]
     },
     "execution_count": 935,
     "metadata": {},
     "output_type": "execute_result"
    }
   ],
   "source": [
    "st.shapiro(df['age'])"
   ]
  },
  {
   "cell_type": "markdown",
   "id": "df0bd7e9",
   "metadata": {},
   "source": [
    "# Линейная регрессия"
   ]
  },
  {
   "cell_type": "code",
   "execution_count": 936,
   "id": "7157d230",
   "metadata": {},
   "outputs": [],
   "source": [
    "# Разделение данных на обучающую и тестовую выборки\n",
    "from sklearn.model_selection import train_test_split\n",
    "\n",
    "X_train, X_test, y_train, y_test = train_test_split(X, y, test_size=0.2, random_state=42)"
   ]
  },
  {
   "cell_type": "code",
   "execution_count": 937,
   "id": "60aa1d63",
   "metadata": {
    "scrolled": true
   },
   "outputs": [
    {
     "data": {
      "text/html": [
       "<style>#sk-container-id-37 {color: black;background-color: white;}#sk-container-id-37 pre{padding: 0;}#sk-container-id-37 div.sk-toggleable {background-color: white;}#sk-container-id-37 label.sk-toggleable__label {cursor: pointer;display: block;width: 100%;margin-bottom: 0;padding: 0.3em;box-sizing: border-box;text-align: center;}#sk-container-id-37 label.sk-toggleable__label-arrow:before {content: \"▸\";float: left;margin-right: 0.25em;color: #696969;}#sk-container-id-37 label.sk-toggleable__label-arrow:hover:before {color: black;}#sk-container-id-37 div.sk-estimator:hover label.sk-toggleable__label-arrow:before {color: black;}#sk-container-id-37 div.sk-toggleable__content {max-height: 0;max-width: 0;overflow: hidden;text-align: left;background-color: #f0f8ff;}#sk-container-id-37 div.sk-toggleable__content pre {margin: 0.2em;color: black;border-radius: 0.25em;background-color: #f0f8ff;}#sk-container-id-37 input.sk-toggleable__control:checked~div.sk-toggleable__content {max-height: 200px;max-width: 100%;overflow: auto;}#sk-container-id-37 input.sk-toggleable__control:checked~label.sk-toggleable__label-arrow:before {content: \"▾\";}#sk-container-id-37 div.sk-estimator input.sk-toggleable__control:checked~label.sk-toggleable__label {background-color: #d4ebff;}#sk-container-id-37 div.sk-label input.sk-toggleable__control:checked~label.sk-toggleable__label {background-color: #d4ebff;}#sk-container-id-37 input.sk-hidden--visually {border: 0;clip: rect(1px 1px 1px 1px);clip: rect(1px, 1px, 1px, 1px);height: 1px;margin: -1px;overflow: hidden;padding: 0;position: absolute;width: 1px;}#sk-container-id-37 div.sk-estimator {font-family: monospace;background-color: #f0f8ff;border: 1px dotted black;border-radius: 0.25em;box-sizing: border-box;margin-bottom: 0.5em;}#sk-container-id-37 div.sk-estimator:hover {background-color: #d4ebff;}#sk-container-id-37 div.sk-parallel-item::after {content: \"\";width: 100%;border-bottom: 1px solid gray;flex-grow: 1;}#sk-container-id-37 div.sk-label:hover label.sk-toggleable__label {background-color: #d4ebff;}#sk-container-id-37 div.sk-serial::before {content: \"\";position: absolute;border-left: 1px solid gray;box-sizing: border-box;top: 0;bottom: 0;left: 50%;z-index: 0;}#sk-container-id-37 div.sk-serial {display: flex;flex-direction: column;align-items: center;background-color: white;padding-right: 0.2em;padding-left: 0.2em;position: relative;}#sk-container-id-37 div.sk-item {position: relative;z-index: 1;}#sk-container-id-37 div.sk-parallel {display: flex;align-items: stretch;justify-content: center;background-color: white;position: relative;}#sk-container-id-37 div.sk-item::before, #sk-container-id-37 div.sk-parallel-item::before {content: \"\";position: absolute;border-left: 1px solid gray;box-sizing: border-box;top: 0;bottom: 0;left: 50%;z-index: -1;}#sk-container-id-37 div.sk-parallel-item {display: flex;flex-direction: column;z-index: 1;position: relative;background-color: white;}#sk-container-id-37 div.sk-parallel-item:first-child::after {align-self: flex-end;width: 50%;}#sk-container-id-37 div.sk-parallel-item:last-child::after {align-self: flex-start;width: 50%;}#sk-container-id-37 div.sk-parallel-item:only-child::after {width: 0;}#sk-container-id-37 div.sk-dashed-wrapped {border: 1px dashed gray;margin: 0 0.4em 0.5em 0.4em;box-sizing: border-box;padding-bottom: 0.4em;background-color: white;}#sk-container-id-37 div.sk-label label {font-family: monospace;font-weight: bold;display: inline-block;line-height: 1.2em;}#sk-container-id-37 div.sk-label-container {text-align: center;}#sk-container-id-37 div.sk-container {/* jupyter's `normalize.less` sets `[hidden] { display: none; }` but bootstrap.min.css set `[hidden] { display: none !important; }` so we also need the `!important` here to be able to override the default hidden behavior on the sphinx rendered scikit-learn.org. See: https://github.com/scikit-learn/scikit-learn/issues/21755 */display: inline-block !important;position: relative;}#sk-container-id-37 div.sk-text-repr-fallback {display: none;}</style><div id=\"sk-container-id-37\" class=\"sk-top-container\"><div class=\"sk-text-repr-fallback\"><pre>LinearRegression()</pre><b>In a Jupyter environment, please rerun this cell to show the HTML representation or trust the notebook. <br />On GitHub, the HTML representation is unable to render, please try loading this page with nbviewer.org.</b></div><div class=\"sk-container\" hidden><div class=\"sk-item\"><div class=\"sk-estimator sk-toggleable\"><input class=\"sk-toggleable__control sk-hidden--visually\" id=\"sk-estimator-id-57\" type=\"checkbox\" checked><label for=\"sk-estimator-id-57\" class=\"sk-toggleable__label sk-toggleable__label-arrow\">LinearRegression</label><div class=\"sk-toggleable__content\"><pre>LinearRegression()</pre></div></div></div></div></div>"
      ],
      "text/plain": [
       "LinearRegression()"
      ]
     },
     "execution_count": 937,
     "metadata": {},
     "output_type": "execute_result"
    }
   ],
   "source": [
    "# Создание и обучение модели линейной регрессии\n",
    "from sklearn.linear_model import LinearRegression\n",
    "\n",
    "lr = LinearRegression()\n",
    "lr.fit(X_train, y_train) # Обучение модели линейной регрессии"
   ]
  },
  {
   "cell_type": "code",
   "execution_count": 938,
   "id": "ec3f6199",
   "metadata": {},
   "outputs": [
    {
     "name": "stdout",
     "output_type": "stream",
     "text": [
      "0.11846781212923309 0.9955541816327262\n"
     ]
    }
   ],
   "source": [
    "# Оценка качества модели с помощью метрик MAE и R²\n",
    "from sklearn.metrics import mean_absolute_error, r2_score\n",
    "\n",
    "y_pred = lr.predict(X_test) # Запишу предсказания\n",
    "\n",
    "mae = mean_absolute_error(y_test, y_pred) \n",
    "r2 = r2_score(y_test, y_pred)\n",
    "\n",
    "print(mae, r2)"
   ]
  },
  {
   "cell_type": "code",
   "execution_count": 939,
   "id": "4677f750",
   "metadata": {},
   "outputs": [
    {
     "data": {
      "text/plain": [
       "3.8885248309604643"
      ]
     },
     "execution_count": 939,
     "metadata": {},
     "output_type": "execute_result"
    }
   ],
   "source": [
    "lr.intercept_"
   ]
  },
  {
   "cell_type": "code",
   "execution_count": 940,
   "id": "f4340374",
   "metadata": {},
   "outputs": [
    {
     "data": {
      "text/html": [
       "<div>\n",
       "<style scoped>\n",
       "    .dataframe tbody tr th:only-of-type {\n",
       "        vertical-align: middle;\n",
       "    }\n",
       "\n",
       "    .dataframe tbody tr th {\n",
       "        vertical-align: top;\n",
       "    }\n",
       "\n",
       "    .dataframe thead th {\n",
       "        text-align: right;\n",
       "    }\n",
       "</style>\n",
       "<table border=\"1\" class=\"dataframe\">\n",
       "  <thead>\n",
       "    <tr style=\"text-align: right;\">\n",
       "      <th></th>\n",
       "      <th>0</th>\n",
       "    </tr>\n",
       "  </thead>\n",
       "  <tbody>\n",
       "    <tr>\n",
       "      <th>rank</th>\n",
       "      <td>-4.151092</td>\n",
       "    </tr>\n",
       "    <tr>\n",
       "      <th>name</th>\n",
       "      <td>-0.002054</td>\n",
       "    </tr>\n",
       "    <tr>\n",
       "      <th>age</th>\n",
       "      <td>0.001968</td>\n",
       "    </tr>\n",
       "    <tr>\n",
       "      <th>country / territory</th>\n",
       "      <td>-0.013133</td>\n",
       "    </tr>\n",
       "    <tr>\n",
       "      <th>source</th>\n",
       "      <td>0.003099</td>\n",
       "    </tr>\n",
       "    <tr>\n",
       "      <th>industry</th>\n",
       "      <td>-0.013684</td>\n",
       "    </tr>\n",
       "  </tbody>\n",
       "</table>\n",
       "</div>"
      ],
      "text/plain": [
       "                            0\n",
       "rank                -4.151092\n",
       "name                -0.002054\n",
       "age                  0.001968\n",
       "country / territory -0.013133\n",
       "source               0.003099\n",
       "industry            -0.013684"
      ]
     },
     "execution_count": 940,
     "metadata": {},
     "output_type": "execute_result"
    }
   ],
   "source": [
    "# Анализ коэффициентов модели для понимания влияния каждого признака\n",
    "pd.DataFrame(\n",
    "    lr.coef_,\n",
    "    index=lr.feature_names_in_\n",
    ")"
   ]
  },
  {
   "cell_type": "code",
   "execution_count": 941,
   "id": "eef1d200",
   "metadata": {},
   "outputs": [
    {
     "data": {
      "image/png": "[encoded data removed]",
      "text/plain": [
       "<Figure size 640x480 with 1 Axes>"
      ]
     },
     "metadata": {},
     "output_type": "display_data"
    }
   ],
   "source": [
    "# Анализ остатков регрессии для проверки допущений модели\n",
    "resid = y_pred - y_test \n",
    "\n",
    "plt.scatter(y_pred, resid)\n",
    "plt.axhline(y=0, color='r', linestyle='--')\n",
    "plt.xlabel('Predicted Values')\n",
    "plt.ylabel('Residuals')\n",
    "plt.title('Residual Plot')\n",
    "plt.show()"
   ]
  },
  {
   "cell_type": "markdown",
   "id": "07e7d799",
   "metadata": {},
   "source": [
    "Регрессия с регуляризацией:"
   ]
  },
  {
   "cell_type": "code",
   "execution_count": 942,
   "id": "543b396b",
   "metadata": {},
   "outputs": [
    {
     "data": {
      "text/plain": [
       "{'alpha': 1e-06}"
      ]
     },
     "execution_count": 942,
     "metadata": {},
     "output_type": "execute_result"
    }
   ],
   "source": [
    "# Подбор оптимального параметра регуляризации alpha для Lasso-регрессии\n",
    "\n",
    "from sklearn.linear_model import Lasso\n",
    "from sklearn.model_selection import GridSearchCV # Функция для подбора гиперпараметров\n",
    "\n",
    "en = GridSearchCV(\n",
    "    estimator=Lasso(),\n",
    "    param_grid={\n",
    "        'alpha': np.linspace(0.000001, 10, 100)\n",
    "    },\n",
    "    cv=10 # Количество фолдов кросс-валидации\n",
    ")\n",
    "\n",
    "en.fit(X_train, y_train) # Обучение модели\n",
    "\n",
    "en.best_params_ # Выврд подобранных параметров"
   ]
  },
  {
   "cell_type": "code",
   "execution_count": 943,
   "id": "8f8661fe",
   "metadata": {},
   "outputs": [],
   "source": [
    "# Создание полиномиальных признаков 3-й степени для учета нелинейных зависимостей\n",
    "from sklearn.preprocessing import PolynomialFeatures\n",
    "\n",
    "poly_train = PolynomialFeatures(3, include_bias=False).fit(X_train)\n",
    "poly_test = PolynomialFeatures(3, include_bias=False).fit(X_test)\n",
    "\n",
    "X_train_poly = pd.DataFrame(\n",
    "    poly_train.transform(X_train),\n",
    "    index=X_train.index,\n",
    "    columns=poly_train.get_feature_names_out()\n",
    ")\n",
    "X_test_poly = pd.DataFrame(\n",
    "    poly_test.transform(X_test),\n",
    "    index=X_test.index,\n",
    "    columns=poly_test.get_feature_names_out()\n",
    ")"
   ]
  },
  {
   "cell_type": "code",
   "execution_count": 944,
   "id": "56f6e24f",
   "metadata": {},
   "outputs": [
    {
     "data": {
      "text/html": [
       "<div>\n",
       "<style scoped>\n",
       "    .dataframe tbody tr th:only-of-type {\n",
       "        vertical-align: middle;\n",
       "    }\n",
       "\n",
       "    .dataframe tbody tr th {\n",
       "        vertical-align: top;\n",
       "    }\n",
       "\n",
       "    .dataframe thead th {\n",
       "        text-align: right;\n",
       "    }\n",
       "</style>\n",
       "<table border=\"1\" class=\"dataframe\">\n",
       "  <thead>\n",
       "    <tr style=\"text-align: right;\">\n",
       "      <th></th>\n",
       "      <th>rank</th>\n",
       "      <th>name</th>\n",
       "      <th>age</th>\n",
       "      <th>country / territory</th>\n",
       "      <th>source</th>\n",
       "      <th>industry</th>\n",
       "      <th>rank^2</th>\n",
       "      <th>rank name</th>\n",
       "      <th>rank age</th>\n",
       "      <th>rank country / territory</th>\n",
       "      <th>...</th>\n",
       "      <th>country / territory^3</th>\n",
       "      <th>country / territory^2 source</th>\n",
       "      <th>country / territory^2 industry</th>\n",
       "      <th>country / territory source^2</th>\n",
       "      <th>country / territory source industry</th>\n",
       "      <th>country / territory industry^2</th>\n",
       "      <th>source^3</th>\n",
       "      <th>source^2 industry</th>\n",
       "      <th>source industry^2</th>\n",
       "      <th>industry^3</th>\n",
       "    </tr>\n",
       "  </thead>\n",
       "  <tbody>\n",
       "    <tr>\n",
       "      <th>1937</th>\n",
       "      <td>0.594980</td>\n",
       "      <td>1.632562</td>\n",
       "      <td>1.047167</td>\n",
       "      <td>-0.411259</td>\n",
       "      <td>-1.578724</td>\n",
       "      <td>-1.305765</td>\n",
       "      <td>0.354002</td>\n",
       "      <td>0.971342</td>\n",
       "      <td>0.623044</td>\n",
       "      <td>-0.244691</td>\n",
       "      <td>...</td>\n",
       "      <td>-0.069558</td>\n",
       "      <td>-0.267016</td>\n",
       "      <td>-0.220849</td>\n",
       "      <td>-1.025008</td>\n",
       "      <td>-0.847786</td>\n",
       "      <td>-0.701205</td>\n",
       "      <td>-3.934761</td>\n",
       "      <td>-3.254447</td>\n",
       "      <td>-2.691759</td>\n",
       "      <td>-2.226358</td>\n",
       "    </tr>\n",
       "    <tr>\n",
       "      <th>2364</th>\n",
       "      <td>0.672660</td>\n",
       "      <td>1.635255</td>\n",
       "      <td>-0.389007</td>\n",
       "      <td>-1.191852</td>\n",
       "      <td>-0.906048</td>\n",
       "      <td>-1.305765</td>\n",
       "      <td>0.452471</td>\n",
       "      <td>1.099970</td>\n",
       "      <td>-0.261670</td>\n",
       "      <td>-0.801711</td>\n",
       "      <td>...</td>\n",
       "      <td>-1.693038</td>\n",
       "      <td>-1.287051</td>\n",
       "      <td>-1.854853</td>\n",
       "      <td>-0.978419</td>\n",
       "      <td>-1.410063</td>\n",
       "      <td>-2.032134</td>\n",
       "      <td>-0.743796</td>\n",
       "      <td>-1.071933</td>\n",
       "      <td>-1.544832</td>\n",
       "      <td>-2.226358</td>\n",
       "    </tr>\n",
       "    <tr>\n",
       "      <th>1780</th>\n",
       "      <td>0.543194</td>\n",
       "      <td>0.519138</td>\n",
       "      <td>-2.656651</td>\n",
       "      <td>1.149927</td>\n",
       "      <td>1.751639</td>\n",
       "      <td>1.647176</td>\n",
       "      <td>0.295060</td>\n",
       "      <td>0.281993</td>\n",
       "      <td>-1.443077</td>\n",
       "      <td>0.624633</td>\n",
       "      <td>...</td>\n",
       "      <td>1.520586</td>\n",
       "      <td>2.316249</td>\n",
       "      <td>2.178114</td>\n",
       "      <td>3.528252</td>\n",
       "      <td>3.317836</td>\n",
       "      <td>3.119968</td>\n",
       "      <td>5.374449</td>\n",
       "      <td>5.053930</td>\n",
       "      <td>4.752526</td>\n",
       "      <td>4.469097</td>\n",
       "    </tr>\n",
       "    <tr>\n",
       "      <th>2172</th>\n",
       "      <td>0.646767</td>\n",
       "      <td>-1.204177</td>\n",
       "      <td>0.064521</td>\n",
       "      <td>-0.762526</td>\n",
       "      <td>0.142170</td>\n",
       "      <td>-0.462068</td>\n",
       "      <td>0.418307</td>\n",
       "      <td>-0.778822</td>\n",
       "      <td>0.041730</td>\n",
       "      <td>-0.493176</td>\n",
       "      <td>...</td>\n",
       "      <td>-0.443367</td>\n",
       "      <td>0.082664</td>\n",
       "      <td>-0.268667</td>\n",
       "      <td>-0.015412</td>\n",
       "      <td>0.050092</td>\n",
       "      <td>-0.162804</td>\n",
       "      <td>0.002874</td>\n",
       "      <td>-0.009339</td>\n",
       "      <td>0.030354</td>\n",
       "      <td>-0.098654</td>\n",
       "    </tr>\n",
       "    <tr>\n",
       "      <th>2558</th>\n",
       "      <td>0.724446</td>\n",
       "      <td>-1.524606</td>\n",
       "      <td>-2.203122</td>\n",
       "      <td>-1.269911</td>\n",
       "      <td>-0.394320</td>\n",
       "      <td>1.647176</td>\n",
       "      <td>0.524823</td>\n",
       "      <td>-1.104495</td>\n",
       "      <td>-1.596044</td>\n",
       "      <td>-0.919982</td>\n",
       "      <td>...</td>\n",
       "      <td>-2.047952</td>\n",
       "      <td>-0.635909</td>\n",
       "      <td>2.656357</td>\n",
       "      <td>-0.197456</td>\n",
       "      <td>0.824824</td>\n",
       "      <td>-3.445507</td>\n",
       "      <td>-0.061312</td>\n",
       "      <td>0.256116</td>\n",
       "      <td>-1.069863</td>\n",
       "      <td>4.469097</td>\n",
       "    </tr>\n",
       "  </tbody>\n",
       "</table>\n",
       "<p>5 rows × 83 columns</p>\n",
       "</div>"
      ],
      "text/plain": [
       "          rank      name       age  country / territory    source  industry  \\\n",
       "1937  0.594980  1.632562  1.047167            -0.411259 -1.578724 -1.305765   \n",
       "2364  0.672660  1.635255 -0.389007            -1.191852 -0.906048 -1.305765   \n",
       "1780  0.543194  0.519138 -2.656651             1.149927  1.751639  1.647176   \n",
       "2172  0.646767 -1.204177  0.064521            -0.762526  0.142170 -0.462068   \n",
       "2558  0.724446 -1.524606 -2.203122            -1.269911 -0.394320  1.647176   \n",
       "\n",
       "        rank^2  rank name  rank age  rank country / territory  ...  \\\n",
       "1937  0.354002   0.971342  0.623044                 -0.244691  ...   \n",
       "2364  0.452471   1.099970 -0.261670                 -0.801711  ...   \n",
       "1780  0.295060   0.281993 -1.443077                  0.624633  ...   \n",
       "2172  0.418307  -0.778822  0.041730                 -0.493176  ...   \n",
       "2558  0.524823  -1.104495 -1.596044                 -0.919982  ...   \n",
       "\n",
       "      country / territory^3  country / territory^2 source  \\\n",
       "1937              -0.069558                     -0.267016   \n",
       "2364              -1.693038                     -1.287051   \n",
       "1780               1.520586                      2.316249   \n",
       "2172              -0.443367                      0.082664   \n",
       "2558              -2.047952                     -0.635909   \n",
       "\n",
       "      country / territory^2 industry  country / territory source^2  \\\n",
       "1937                       -0.220849                     -1.025008   \n",
       "2364                       -1.854853                     -0.978419   \n",
       "1780                        2.178114                      3.528252   \n",
       "2172                       -0.268667                     -0.015412   \n",
       "2558                        2.656357                     -0.197456   \n",
       "\n",
       "      country / territory source industry  country / territory industry^2  \\\n",
       "1937                            -0.847786                       -0.701205   \n",
       "2364                            -1.410063                       -2.032134   \n",
       "1780                             3.317836                        3.119968   \n",
       "2172                             0.050092                       -0.162804   \n",
       "2558                             0.824824                       -3.445507   \n",
       "\n",
       "      source^3  source^2 industry  source industry^2  industry^3  \n",
       "1937 -3.934761          -3.254447          -2.691759   -2.226358  \n",
       "2364 -0.743796          -1.071933          -1.544832   -2.226358  \n",
       "1780  5.374449           5.053930           4.752526    4.469097  \n",
       "2172  0.002874          -0.009339           0.030354   -0.098654  \n",
       "2558 -0.061312           0.256116          -1.069863    4.469097  \n",
       "\n",
       "[5 rows x 83 columns]"
      ]
     },
     "execution_count": 944,
     "metadata": {},
     "output_type": "execute_result"
    }
   ],
   "source": [
    "X_train_poly.head()"
   ]
  },
  {
   "cell_type": "code",
   "execution_count": 946,
   "id": "242a594c",
   "metadata": {},
   "outputs": [
    {
     "name": "stdout",
     "output_type": "stream",
     "text": [
      "0.026926415143379505 0.9996606626147779\n"
     ]
    }
   ],
   "source": [
    "# Обучение модели на полиномиальных признаках и оценка качества\n",
    "mae = mean_absolute_error(y_test, y_pred_poly) \n",
    "r2 = r2_score(y_test, y_pred_poly)\n",
    "\n",
    "print(mae, r2)"
   ]
  },
  {
   "cell_type": "code",
   "execution_count": 947,
   "id": "a71f1ad1",
   "metadata": {},
   "outputs": [
    {
     "data": {
      "image/png": "[encoded data removed]",
      "text/plain": [
       "<Figure size 640x480 with 1 Axes>"
      ]
     },
     "metadata": {},
     "output_type": "display_data"
    }
   ],
   "source": [
    "# Визуализация остатков полиномиальной регрессии\n",
    "# Проверка гомоскедастичности и нормальности распределения ошибок\n",
    "resid_poly = y_pred_poly - y_test \n",
    "\n",
    "plt.scatter(y_pred_poly, resid_poly)\n",
    "plt.axhline(y=0, color='r', linestyle='--')\n",
    "plt.xlabel('Predicted Values')\n",
    "plt.ylabel('Residuals')\n",
    "plt.title('Residual Plot')\n",
    "plt.show()"
   ]
  },
  {
   "cell_type": "code",
   "execution_count": 948,
   "id": "c11f3325",
   "metadata": {},
   "outputs": [
    {
     "data": {
      "text/plain": [
       "[<matplotlib.lines.Line2D at 0x18126b04ac0>]"
      ]
     },
     "execution_count": 948,
     "metadata": {},
     "output_type": "execute_result"
    },
    {
     "data": {
      "image/png": "[encoded data removed]",
      "text/plain": [
       "<Figure size 640x480 with 1 Axes>"
      ]
     },
     "metadata": {},
     "output_type": "display_data"
    }
   ],
   "source": [
    "# Сравнение результатов обычной и полиномиальной регрессии\n",
    "sns.scatterplot(x=y_test, y=y_pred, label='Предсказания классической регрессии')\n",
    "sns.scatterplot(x=y_test, y=y_pred_poly, label='Предсказания полиомиальной регрессии')\n",
    "plt.xlabel('True Values')\n",
    "plt.ylabel('Predictions')\n",
    "plt.plot([0, 16], [0, 16], color='red')  # Диагональная линия"
   ]
  },
  {
   "cell_type": "markdown",
   "id": "c1e0c1fe",
   "metadata": {},
   "source": [
    "# Логистическая регрессия"
   ]
  },
  {
   "cell_type": "markdown",
   "id": "9b9f1906",
   "metadata": {},
   "source": [
    "Задача:\n",
    "- Определить к индустрии \"Finance & Investments\" или \"Manufacturing\" относится бизнесмен"
   ]
  },
  {
   "cell_type": "code",
   "execution_count": 949,
   "id": "e41626ac",
   "metadata": {},
   "outputs": [],
   "source": [
    "df_classification = df[\n",
    "    (df['industry'] == 'Finance & Investments') \\\n",
    "          | (df['industry'] == 'Manufacturing')]"
   ]
  },
  {
   "cell_type": "code",
   "execution_count": 950,
   "id": "5923f475",
   "metadata": {},
   "outputs": [],
   "source": [
    "df_classification = df_classification.reset_index(drop=True) # Для удобства обновлю индексы"
   ]
  },
  {
   "cell_type": "code",
   "execution_count": 951,
   "id": "f9fd3740",
   "metadata": {},
   "outputs": [
    {
     "data": {
      "text/html": [
       "<div>\n",
       "<style scoped>\n",
       "    .dataframe tbody tr th:only-of-type {\n",
       "        vertical-align: middle;\n",
       "    }\n",
       "\n",
       "    .dataframe tbody tr th {\n",
       "        vertical-align: top;\n",
       "    }\n",
       "\n",
       "    .dataframe thead th {\n",
       "        text-align: right;\n",
       "    }\n",
       "</style>\n",
       "<table border=\"1\" class=\"dataframe\">\n",
       "  <thead>\n",
       "    <tr style=\"text-align: right;\">\n",
       "      <th></th>\n",
       "      <th>rank</th>\n",
       "      <th>name</th>\n",
       "      <th>net_worth (in billion $)</th>\n",
       "      <th>age</th>\n",
       "      <th>country / territory</th>\n",
       "      <th>source</th>\n",
       "      <th>industry</th>\n",
       "    </tr>\n",
       "  </thead>\n",
       "  <tbody>\n",
       "    <tr>\n",
       "      <th>0</th>\n",
       "      <td>5</td>\n",
       "      <td>Warren Buffett</td>\n",
       "      <td>106.0</td>\n",
       "      <td>92.0</td>\n",
       "      <td>United States</td>\n",
       "      <td>Berkshire Hathaway</td>\n",
       "      <td>Finance &amp; Investments</td>\n",
       "    </tr>\n",
       "    <tr>\n",
       "      <th>1</th>\n",
       "      <td>35</td>\n",
       "      <td>Ken Griffin</td>\n",
       "      <td>35.0</td>\n",
       "      <td>54.0</td>\n",
       "      <td>United States</td>\n",
       "      <td>Hedge funds</td>\n",
       "      <td>Finance &amp; Investments</td>\n",
       "    </tr>\n",
       "    <tr>\n",
       "      <th>2</th>\n",
       "      <td>46</td>\n",
       "      <td>Reinhold Wuerth &amp; family</td>\n",
       "      <td>29.7</td>\n",
       "      <td>87.0</td>\n",
       "      <td>Germany</td>\n",
       "      <td>Fasteners</td>\n",
       "      <td>Manufacturing</td>\n",
       "    </tr>\n",
       "    <tr>\n",
       "      <th>3</th>\n",
       "      <td>48</td>\n",
       "      <td>Jeff Yass</td>\n",
       "      <td>28.5</td>\n",
       "      <td>64.0</td>\n",
       "      <td>United States</td>\n",
       "      <td>Trading, investments</td>\n",
       "      <td>Finance &amp; Investments</td>\n",
       "    </tr>\n",
       "    <tr>\n",
       "      <th>4</th>\n",
       "      <td>49</td>\n",
       "      <td>Jim Simons</td>\n",
       "      <td>28.1</td>\n",
       "      <td>84.0</td>\n",
       "      <td>United States</td>\n",
       "      <td>Hedge funds</td>\n",
       "      <td>Finance &amp; Investments</td>\n",
       "    </tr>\n",
       "  </tbody>\n",
       "</table>\n",
       "</div>"
      ],
      "text/plain": [
       "   rank                      name  net_worth (in billion $)   age  \\\n",
       "0     5            Warren Buffett                     106.0  92.0   \n",
       "1    35               Ken Griffin                      35.0  54.0   \n",
       "2    46  Reinhold Wuerth & family                      29.7  87.0   \n",
       "3    48                 Jeff Yass                      28.5  64.0   \n",
       "4    49                Jim Simons                      28.1  84.0   \n",
       "\n",
       "  country / territory                source               industry  \n",
       "0       United States    Berkshire Hathaway  Finance & Investments  \n",
       "1       United States           Hedge funds  Finance & Investments  \n",
       "2             Germany             Fasteners          Manufacturing  \n",
       "3       United States  Trading, investments  Finance & Investments  \n",
       "4       United States           Hedge funds  Finance & Investments  "
      ]
     },
     "execution_count": 951,
     "metadata": {},
     "output_type": "execute_result"
    }
   ],
   "source": [
    "df_classification.head()"
   ]
  },
  {
   "cell_type": "code",
   "execution_count": 952,
   "id": "72a7ec69",
   "metadata": {},
   "outputs": [],
   "source": [
    "# Разделю предикторы и целевую переменную\n",
    "y, X = df_classification['industry'], df_classification.drop('industry', axis=1)\n",
    "\n",
    "# Кодирую категориальные признаки\n",
    "cat_vars = set(X.columns) - set(['Age', 'net_worth (in billion $)'])\n",
    "for var in cat_vars:\n",
    "    X[var] = LabelEncoder().fit_transform(X[var])\n",
    "\n",
    "# Стандартизация\n",
    "X = pd.DataFrame(\n",
    "    StandardScaler().fit_transform(X),\n",
    "    columns=X.columns,\n",
    "    index=X.index\n",
    ")\n",
    "\n",
    "# Удалю выбросы\n",
    "X = X[(np.abs(X) < 3)].dropna()\n",
    "y = y[X.index]\n",
    "\n",
    "# Так как переменные ранга и дохода создают мультиколлинеарность, удалю одну из них:\n",
    "X = X.drop('rank', axis=1)\n",
    "\n",
    "# Разделю на тренировочную и тестовую выборки\n",
    "X_train, X_test, y_train, y_test = train_test_split(X, y, test_size=0.2, random_state=42)"
   ]
  },
  {
   "cell_type": "code",
   "execution_count": 953,
   "id": "b5c8b391",
   "metadata": {},
   "outputs": [],
   "source": [
    "from sklearn.linear_model import LogisticRegression\n",
    "\n",
    "lr = LogisticRegression()\n",
    "\n",
    "lr.fit(X_train, y_train) # Обучаю модель\n",
    "\n",
    "y_pred = lr.predict(X_test) # Получаю предсказания"
   ]
  },
  {
   "cell_type": "code",
   "execution_count": 954,
   "id": "3cf43e37",
   "metadata": {},
   "outputs": [
    {
     "data": {
      "text/plain": [
       "array([[58, 17],\n",
       "       [14, 45]], dtype=int64)"
      ]
     },
     "execution_count": 954,
     "metadata": {},
     "output_type": "execute_result"
    }
   ],
   "source": [
    "from sklearn.metrics import confusion_matrix, accuracy_score\n",
    "\n",
    "confusion_matrix(y_test, y_pred)"
   ]
  },
  {
   "cell_type": "code",
   "execution_count": 955,
   "id": "4ce77e87",
   "metadata": {},
   "outputs": [
    {
     "data": {
      "text/plain": [
       "0.7686567164179104"
      ]
     },
     "execution_count": 955,
     "metadata": {},
     "output_type": "execute_result"
    }
   ],
   "source": [
    "accuracy_score(y_test, y_pred)"
   ]
  },
  {
   "cell_type": "markdown",
   "id": "1c0553a5",
   "metadata": {},
   "source": [
    "# Кластеризация"
   ]
  },
  {
   "cell_type": "markdown",
   "id": "dfe30e1e",
   "metadata": {},
   "source": [
    "Формулировка задачи:\n",
    "- Запланирован выпуск трёх журналов, посвящённых людям из списка Forbes. Нужно определить, контент про каких людей в какой журнал войдёт."
   ]
  },
  {
   "cell_type": "code",
   "execution_count": 956,
   "id": "7b8b7357",
   "metadata": {},
   "outputs": [],
   "source": [
    "df_cluster = df.copy()\n",
    "\n",
    "# Кодирую категориальные признаки\n",
    "cat_vars = set(df_cluster.columns) - set(['Age', 'net_worth (in billion $)'])\n",
    "for var in cat_vars:\n",
    "    df_cluster[var] = LabelEncoder().fit_transform(df_cluster[var])\n",
    "\n",
    "# Стандартизация\n",
    "df_cluster = pd.DataFrame(\n",
    "    StandardScaler().fit_transform(df_cluster),\n",
    "    columns=df_cluster.columns,\n",
    "    index=df_cluster.index\n",
    ")"
   ]
  },
  {
   "cell_type": "code",
   "execution_count": 957,
   "id": "b624596c",
   "metadata": {},
   "outputs": [
    {
     "data": {
      "text/html": [
       "<style>#sk-container-id-38 {color: black;background-color: white;}#sk-container-id-38 pre{padding: 0;}#sk-container-id-38 div.sk-toggleable {background-color: white;}#sk-container-id-38 label.sk-toggleable__label {cursor: pointer;display: block;width: 100%;margin-bottom: 0;padding: 0.3em;box-sizing: border-box;text-align: center;}#sk-container-id-38 label.sk-toggleable__label-arrow:before {content: \"▸\";float: left;margin-right: 0.25em;color: #696969;}#sk-container-id-38 label.sk-toggleable__label-arrow:hover:before {color: black;}#sk-container-id-38 div.sk-estimator:hover label.sk-toggleable__label-arrow:before {color: black;}#sk-container-id-38 div.sk-toggleable__content {max-height: 0;max-width: 0;overflow: hidden;text-align: left;background-color: #f0f8ff;}#sk-container-id-38 div.sk-toggleable__content pre {margin: 0.2em;color: black;border-radius: 0.25em;background-color: #f0f8ff;}#sk-container-id-38 input.sk-toggleable__control:checked~div.sk-toggleable__content {max-height: 200px;max-width: 100%;overflow: auto;}#sk-container-id-38 input.sk-toggleable__control:checked~label.sk-toggleable__label-arrow:before {content: \"▾\";}#sk-container-id-38 div.sk-estimator input.sk-toggleable__control:checked~label.sk-toggleable__label {background-color: #d4ebff;}#sk-container-id-38 div.sk-label input.sk-toggleable__control:checked~label.sk-toggleable__label {background-color: #d4ebff;}#sk-container-id-38 input.sk-hidden--visually {border: 0;clip: rect(1px 1px 1px 1px);clip: rect(1px, 1px, 1px, 1px);height: 1px;margin: -1px;overflow: hidden;padding: 0;position: absolute;width: 1px;}#sk-container-id-38 div.sk-estimator {font-family: monospace;background-color: #f0f8ff;border: 1px dotted black;border-radius: 0.25em;box-sizing: border-box;margin-bottom: 0.5em;}#sk-container-id-38 div.sk-estimator:hover {background-color: #d4ebff;}#sk-container-id-38 div.sk-parallel-item::after {content: \"\";width: 100%;border-bottom: 1px solid gray;flex-grow: 1;}#sk-container-id-38 div.sk-label:hover label.sk-toggleable__label {background-color: #d4ebff;}#sk-container-id-38 div.sk-serial::before {content: \"\";position: absolute;border-left: 1px solid gray;box-sizing: border-box;top: 0;bottom: 0;left: 50%;z-index: 0;}#sk-container-id-38 div.sk-serial {display: flex;flex-direction: column;align-items: center;background-color: white;padding-right: 0.2em;padding-left: 0.2em;position: relative;}#sk-container-id-38 div.sk-item {position: relative;z-index: 1;}#sk-container-id-38 div.sk-parallel {display: flex;align-items: stretch;justify-content: center;background-color: white;position: relative;}#sk-container-id-38 div.sk-item::before, #sk-container-id-38 div.sk-parallel-item::before {content: \"\";position: absolute;border-left: 1px solid gray;box-sizing: border-box;top: 0;bottom: 0;left: 50%;z-index: -1;}#sk-container-id-38 div.sk-parallel-item {display: flex;flex-direction: column;z-index: 1;position: relative;background-color: white;}#sk-container-id-38 div.sk-parallel-item:first-child::after {align-self: flex-end;width: 50%;}#sk-container-id-38 div.sk-parallel-item:last-child::after {align-self: flex-start;width: 50%;}#sk-container-id-38 div.sk-parallel-item:only-child::after {width: 0;}#sk-container-id-38 div.sk-dashed-wrapped {border: 1px dashed gray;margin: 0 0.4em 0.5em 0.4em;box-sizing: border-box;padding-bottom: 0.4em;background-color: white;}#sk-container-id-38 div.sk-label label {font-family: monospace;font-weight: bold;display: inline-block;line-height: 1.2em;}#sk-container-id-38 div.sk-label-container {text-align: center;}#sk-container-id-38 div.sk-container {/* jupyter's `normalize.less` sets `[hidden] { display: none; }` but bootstrap.min.css set `[hidden] { display: none !important; }` so we also need the `!important` here to be able to override the default hidden behavior on the sphinx rendered scikit-learn.org. See: https://github.com/scikit-learn/scikit-learn/issues/21755 */display: inline-block !important;position: relative;}#sk-container-id-38 div.sk-text-repr-fallback {display: none;}</style><div id=\"sk-container-id-38\" class=\"sk-top-container\"><div class=\"sk-text-repr-fallback\"><pre>KMeans(n_clusters=3, n_init=100)</pre><b>In a Jupyter environment, please rerun this cell to show the HTML representation or trust the notebook. <br />On GitHub, the HTML representation is unable to render, please try loading this page with nbviewer.org.</b></div><div class=\"sk-container\" hidden><div class=\"sk-item\"><div class=\"sk-estimator sk-toggleable\"><input class=\"sk-toggleable__control sk-hidden--visually\" id=\"sk-estimator-id-58\" type=\"checkbox\" checked><label for=\"sk-estimator-id-58\" class=\"sk-toggleable__label sk-toggleable__label-arrow\">KMeans</label><div class=\"sk-toggleable__content\"><pre>KMeans(n_clusters=3, n_init=100)</pre></div></div></div></div></div>"
      ],
      "text/plain": [
       "KMeans(n_clusters=3, n_init=100)"
      ]
     },
     "execution_count": 957,
     "metadata": {},
     "output_type": "execute_result"
    }
   ],
   "source": [
    "from sklearn.cluster import KMeans\n",
    "\n",
    "k_means = KMeans(n_clusters=3, n_init=100)\n",
    "\n",
    "k_means.fit(df_cluster) # Обучаю модель"
   ]
  },
  {
   "cell_type": "code",
   "execution_count": 958,
   "id": "31a84e86",
   "metadata": {},
   "outputs": [],
   "source": [
    "df = pd.concat(\n",
    "    [df, pd.Series(k_means.labels_, index=df.index, name='clusters')], \n",
    "    axis=1\n",
    ")"
   ]
  },
  {
   "cell_type": "code",
   "execution_count": 959,
   "id": "16eb2882",
   "metadata": {},
   "outputs": [
    {
     "data": {
      "text/plain": [
       "1    1321\n",
       "2    1128\n",
       "0     126\n",
       "Name: clusters, dtype: int64"
      ]
     },
     "execution_count": 959,
     "metadata": {},
     "output_type": "execute_result"
    }
   ],
   "source": [
    "df['clusters'].value_counts()"
   ]
  },
  {
   "cell_type": "code",
   "execution_count": 960,
   "id": "53184a42",
   "metadata": {},
   "outputs": [
    {
     "data": {
      "text/plain": [
       "<Axes: xlabel='net_worth (in billion $)', ylabel='age'>"
      ]
     },
     "execution_count": 960,
     "metadata": {},
     "output_type": "execute_result"
    },
    {
     "data": {
      "image/png": "[encoded data removed]",
      "text/plain": [
       "<Figure size 640x480 with 1 Axes>"
      ]
     },
     "metadata": {},
     "output_type": "display_data"
    }
   ],
   "source": [
    "sns.scatterplot(data=df, x='net_worth (in billion $)', y='age', hue='clusters')"
   ]
  },
  {
   "cell_type": "code",
   "execution_count": 961,
   "id": "c10a8ca7",
   "metadata": {},
   "outputs": [
    {
     "data": {
      "text/plain": [
       "<Axes: xlabel='clusters', ylabel='proportion'>"
      ]
     },
     "execution_count": 961,
     "metadata": {},
     "output_type": "execute_result"
    },
    {
     "data": {
      "image/png": "[encoded data removed]",
      "text/plain": [
       "<Figure size 1500x1000 with 1 Axes>"
      ]
     },
     "metadata": {},
     "output_type": "display_data"
    }
   ],
   "source": [
    "df_industry_group = df.groupby('industry', as_index=False)['clusters'].\\\n",
    "    value_counts(normalize=True).\\\n",
    "    sort_values(by='industry')\n",
    "\n",
    "plt.figure(figsize=(15, 10))\n",
    "sns.barplot(data=df_industry_group, x='clusters', y='proportion', hue='industry')"
   ]
  }
 ],
 "metadata": {
  "kernelspec": {
   "display_name": "Python 3 (ipykernel)",
   "language": "python",
   "name": "python3"
  },
  "language_info": {
   "codemirror_mode": {
    "name": "ipython",
    "version": 3
   },
   "file_extension": ".py",
   "mimetype": "text/x-python",
   "name": "python",
   "nbconvert_exporter": "python",
   "pygments_lexer": "ipython3",
   "version": "3.11.5"
  }
 },
 "nbformat": 4,
 "nbformat_minor": 5
}
